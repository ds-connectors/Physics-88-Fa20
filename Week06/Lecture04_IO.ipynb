{
 "cells": [
  {
   "cell_type": "markdown",
   "metadata": {},
   "source": [
    "## Lecture 4 (Week 6): Input and Output"
   ]
  },
  {
   "cell_type": "markdown",
   "metadata": {},
   "source": [
    "Topic coverage: \n",
    " \n",
    "* Review, Q&A\n",
    "* Input/Output\n",
    "    * Reading from the prompt\n",
    "    * Reading from the command line\n",
    "    * File input/output\n",
    "    * Common binary formats\n",
    "\n",
    "    \n",
    "Based on the material developed by Jennifer Barnes for Phys77, Spring '16"
   ]
  },
  {
   "cell_type": "markdown",
   "metadata": {},
   "source": [
    "## Input and Output"
   ]
  },
  {
   "cell_type": "markdown",
   "metadata": {},
   "source": [
    "Most of the time, your code will need to process external data -- either entered by a human (through a keyboard), or read from external media. *This is an example of abstraction*: you write generic code that is kept separately from the data. \n",
    "\n",
    "Let's look at some basic examples"
   ]
  },
  {
   "cell_type": "markdown",
   "metadata": {},
   "source": [
    "### Keyboard prompt"
   ]
  },
  {
   "cell_type": "code",
   "execution_count": 3,
   "metadata": {},
   "outputs": [
    {
     "name": "stdout",
     "output_type": "stream",
     "text": [
      "What is your name ? Joe\n",
      "3\n",
      "<class 'str'> Hello, Joe\n"
     ]
    }
   ],
   "source": [
    "s = input('What is your name ? ')\n",
    "print(len(s))\n",
    "print (type(s), \"Hello,\", s)"
   ]
  },
  {
   "cell_type": "markdown",
   "metadata": {},
   "source": [
    "You may want to convert strings to numerical types in order to perform calculations. See "
   ]
  },
  {
   "cell_type": "code",
   "execution_count": 4,
   "metadata": {},
   "outputs": [
    {
     "name": "stdout",
     "output_type": "stream",
     "text": [
      "What is your age ? 18\n",
      "<class 'str'>\n",
      "<class 'int'> 18\n",
      "Next year you will be 19\n"
     ]
    }
   ],
   "source": [
    "age = input('What is your age ? ')\n",
    "print (type(age))\n",
    "number = int(age)\n",
    "print (type(number), number)\n",
    "nextYear = number+1\n",
    "print('Next year you will be',nextYear)\n"
   ]
  },
  {
   "cell_type": "markdown",
   "metadata": {},
   "source": [
    "Slightly more flexible (but also more dangerous) way to do conversion is to use <tt>eval()</tt>"
   ]
  },
  {
   "cell_type": "code",
   "execution_count": 7,
   "metadata": {},
   "outputs": [
    {
     "name": "stdout",
     "output_type": "stream",
     "text": [
      "What is your age ? np.exp(5)\n",
      "<class 'numpy.float64'>\n",
      "You are 148.4131591025766 years old\n"
     ]
    }
   ],
   "source": [
    "import numpy as np\n",
    "x = 5\n",
    "age = input('What is your age ? ')\n",
    "number = eval(age)\n",
    "print (type(number))\n",
    "print('You are',number,'years old')"
   ]
  },
  {
   "cell_type": "markdown",
   "metadata": {},
   "source": [
    "Most often, you would want to enter several values and parse them. Use string method *split()*:\n",
    "But pay attention: the parsing is pretty rudimantary ! (examples)"
   ]
  },
  {
   "cell_type": "code",
   "execution_count": 34,
   "metadata": {},
   "outputs": [
    {
     "name": "stdout",
     "output_type": "stream",
     "text": [
      "Enter coordinates (x,y,z):56,99,11\n",
      "x= 56 y= 99 z= 11\n",
      "<class 'str'> <class 'str'> <class 'str'>\n"
     ]
    }
   ],
   "source": [
    "s = input('Enter coordinates (x,y,z):')\n",
    "[x,y,z] = s.split(',')\n",
    "print (\"x=\",x,\"y=\",y,\"z=\",z)\n",
    "print (type(x), type(y), type(z))"
   ]
  },
  {
   "cell_type": "markdown",
   "metadata": {},
   "source": [
    "Sometimes you would want to convert to float or int immediately, so can use list comprehension:"
   ]
  },
  {
   "cell_type": "code",
   "execution_count": 36,
   "metadata": {},
   "outputs": [
    {
     "name": "stdout",
     "output_type": "stream",
     "text": [
      "Enter coordinates (x,y,z):34,66,-10\n",
      "x= 34.0 y= 66.0 z= -10.0\n",
      "<class 'float'> <class 'float'> <class 'float'>\n",
      "x squared =  1156.0\n"
     ]
    }
   ],
   "source": [
    "s = input('Enter coordinates (x,y,z):')\n",
    "[x,y,z] = [float(var) for var in (s.split(','))]\n",
    "print (\"x=\",x,\"y=\",y,\"z=\",z)\n",
    "print (type(x), type(y), type(z))\n",
    "print('x squared = ',x**2)"
   ]
  },
  {
   "cell_type": "markdown",
   "metadata": {},
   "source": [
    "### Reading and writing files"
   ]
  },
  {
   "cell_type": "code",
   "execution_count": 1,
   "metadata": {},
   "outputs": [
    {
     "name": "stdout",
     "output_type": "stream",
     "text": [
      "Populating the interactive namespace from numpy and matplotlib\n"
     ]
    }
   ],
   "source": [
    "%pylab inline"
   ]
  },
  {
   "cell_type": "markdown",
   "metadata": {},
   "source": [
    "### Part I: ASCII files"
   ]
  },
  {
   "cell_type": "markdown",
   "metadata": {},
   "source": [
    "Think of ASCII files as text files. ASCII stands for American Standard Code for Information Interchange -- which developed standards for encoding text and control information in files as far back as 1967. These standards are still in use today. \n",
    "\n",
    "You can open them using a text editor (like vim or emacs in Unix, Notepad in Windows, or TextEdit on a Mac) and read the information they contain directly. There are a few ways to produce these files, and to read them once they've been produced. In Python, the simplest way is to use file objects. \n",
    "\n",
    "Let's give it a try. We create a file object by calling the function `open( filename, access_mode )` and assigning its return value to a variable (usually `f`). This variable is often called a \"file descriptor\", or a \"handle\". It keeps information about the current state of the file, and also allows operating on the file, e.g. for reading or writing. \n",
    "\n",
    "The argument `filename` just specifices the name of the file we're interested in, and `access_mode` tells Python what we plan to do with that file:  \n",
    "   * 'r': read the file  \n",
    "   * 'w': write to the file (creates a new file, or clears an existing file)\n",
    "   * 'a': append the file  \n",
    "     \n",
    "Note that both arguments should be strings.\n",
    "For full syntax and special arguments, see documentation at https://docs.python.org/3/library/functions.html#open"
   ]
  },
  {
   "cell_type": "code",
   "execution_count": 10,
   "metadata": {},
   "outputs": [
    {
     "name": "stdout",
     "output_type": "stream",
     "text": [
      "<_io.TextIOWrapper name='welcome.txt' mode='w' encoding='UTF-8'>\n"
     ]
    }
   ],
   "source": [
    "f = open( 'welcome.txt', 'w' )\n",
    "print(f)    # see what we got"
   ]
  },
  {
   "cell_type": "markdown",
   "metadata": {},
   "source": [
    "A note of caution: as soon as you call `open()`, Python creates a new file with the name you pass to it. Python will overwrite existing files if you open a file of the same name in write ('`w`') mode."
   ]
  },
  {
   "cell_type": "markdown",
   "metadata": {},
   "source": [
    "Now we can write to the file using `f.write( thing_to_write )`. We can write anything we want, but it must be formatted as a string."
   ]
  },
  {
   "cell_type": "code",
   "execution_count": 11,
   "metadata": {},
   "outputs": [],
   "source": [
    "topics = ['Data types', 'Loops', 'Functions', 'Arrays', 'Plotting', 'Statistics']"
   ]
  },
  {
   "cell_type": "code",
   "execution_count": 12,
   "metadata": {},
   "outputs": [],
   "source": [
    "f.write( 'Welcome to Physics 77, Fall 2020\\n' ) # the newline command \\n tells Python to start a new line\n",
    "f.write( 'Topics we will learn about include:\\n' )\n",
    "for top in topics:\n",
    "    f.write( top + '\\n')\n",
    "f.close()                                         # don't forget this part!"
   ]
  },
  {
   "cell_type": "markdown",
   "metadata": {},
   "source": [
    "Now go to your directory on datahub (or local computer) and look for this file.\n",
    "You can also use Jupyter/iPython magic commands to examine the contents:"
   ]
  },
  {
   "cell_type": "code",
   "execution_count": 13,
   "metadata": {},
   "outputs": [
    {
     "name": "stdout",
     "output_type": "stream",
     "text": [
      "Welcome to Physics 77, Fall 2020\r\n",
      "Topics we will learn about include:\r\n",
      "Data types\r\n",
      "Loops\r\n",
      "Functions\r\n",
      "Arrays\r\n",
      "Plotting\r\n",
      "Statistics\r\n"
     ]
    }
   ],
   "source": [
    "%cat welcome.txt"
   ]
  },
  {
   "cell_type": "markdown",
   "metadata": {},
   "source": [
    "We can then read the data back out again:"
   ]
  },
  {
   "cell_type": "code",
   "execution_count": 18,
   "metadata": {},
   "outputs": [
    {
     "name": "stdout",
     "output_type": "stream",
     "text": [
      "<_io.TextIOWrapper name='welcome.txt' mode='r' encoding='UTF-8'>\n"
     ]
    }
   ],
   "source": [
    "f = open( 'welcome.txt', 'r' )    # note that we reused the handle\n",
    "print(f)"
   ]
  },
  {
   "cell_type": "code",
   "execution_count": 19,
   "metadata": {},
   "outputs": [
    {
     "name": "stdout",
     "output_type": "stream",
     "text": [
      "Welcome to Physics 77, Fall 2020\n",
      "Topics we will learn about include:\n",
      "Data types\n",
      "Loops\n",
      "Functions\n",
      "Arrays\n",
      "Plotting\n",
      "Statistics\n"
     ]
    }
   ],
   "source": [
    "for line in f:\n",
    "#    print (line.strip())\n",
    "    print(line)       # see the difference ? \n",
    "f.close()"
   ]
  },
  {
   "cell_type": "markdown",
   "metadata": {},
   "source": [
    "There are also shortcuts available, if we only want to read in some of the data:"
   ]
  },
  {
   "cell_type": "code",
   "execution_count": 22,
   "metadata": {},
   "outputs": [
    {
     "name": "stdout",
     "output_type": "stream",
     "text": [
      "6\n",
      "['Data types', 'Loops', 'Functions', 'Arrays', 'Plotting', 'Statistics']\n"
     ]
    }
   ],
   "source": [
    "f = open( 'welcome.txt', 'r' )\n",
    "f.readline()\n",
    "f.readline() # skip the first two lines\n",
    "topicList = [line.strip() for line in f]\n",
    "#topicList = [line for line in f]\n",
    "f.close()\n",
    "print (len(topicList))\n",
    "print (topicList)"
   ]
  },
  {
   "cell_type": "markdown",
   "metadata": {},
   "source": [
    "Python reads in spacing commands from files as well as strings. The `.strip()` just tells Python to ignore those spacing commands. What happens if you remove it from the code above?"
   ]
  },
  {
   "cell_type": "markdown",
   "metadata": {},
   "source": [
    "#### Numerical data"
   ]
  },
  {
   "cell_type": "markdown",
   "metadata": {},
   "source": [
    "For the most part, our text files will contain numeric information, not strings. These can be somewhat trickier to read in. Let's read in a file I produced in another program, that contains results from a BaBar experiment, where we searched for a \"dark photon\" produced in e+e- collisions [https://journals.aps.org/prl/abstract/10.1103/PhysRevLett.119.131804, https://arxiv.org/abs/1702.03327]. The data are presented in two columns: \n",
    "\n",
    "  mass charge\n",
    "  \n",
    "First, let's peek into the file using iPython magic (direct interface to Unix operating system):"
   ]
  },
  {
   "cell_type": "code",
   "execution_count": 24,
   "metadata": {},
   "outputs": [
    {
     "name": "stdout",
     "output_type": "stream",
     "text": [
      "0.001 0.000952195\r\n",
      "0.01 0.000952195\r\n",
      "0.1 0.000950897\r\n",
      "0.18 0.000950809\r\n",
      "0.26 0.000951735\r\n",
      "0.34 0.000953462\r\n",
      "0.42 0.000955598\r\n",
      "0.5 0.000958435\r\n",
      "0.6 0.000963399\r\n",
      "0.7 0.00096678\r\n",
      "0.8 0.000970583\r\n",
      "0.9 0.000969781\r\n",
      "1 0.000971594\r\n",
      "1.1 0.000972387\r\n",
      "1.2 0.000973097\r\n",
      "1.3 0.000974733\r\n",
      "1.4 0.00097422\r\n",
      "1.5 0.00097165\r\n",
      "1.6 0.000962064\r\n",
      "1.7 0.000942872\r\n",
      "1.8 0.000911077\r\n",
      "1.9 0.000865801\r\n",
      "2 0.000826349\r\n",
      "2.1 0.000783788\r\n",
      "2.2 0.000753597\r\n",
      "2.3 0.000726955\r\n",
      "2.35 0.000716662\r\n",
      "2.4 0.000709861\r\n",
      "2.45 0.000706955\r\n",
      "2.5 0.000707445\r\n",
      "2.55 0.000710584\r\n",
      "2.6 0.000715213\r\n",
      "2.65 0.000720283\r\n",
      "2.7 0.00072533\r\n",
      "2.75 0.000731263\r\n",
      "2.8 0.000735299\r\n",
      "2.85 0.000738478\r\n",
      "2.9 0.000741726\r\n",
      "2.95 0.000745896\r\n",
      "3 0.000751421\r\n",
      "3.05 0.000760788\r\n",
      "3.1 0.000772545\r\n",
      "3.15 0.000780816\r\n",
      "3.2 0.000785241\r\n",
      "3.25 0.000784907\r\n",
      "3.3 0.000779522\r\n",
      "3.35 0.000769029\r\n",
      "3.4 0.000753078\r\n",
      "3.45 0.000732364\r\n",
      "3.5 0.000713674\r\n",
      "3.55 0.000686495\r\n",
      "3.6 0.000650987\r\n",
      "3.65 0.000627128\r\n",
      "3.7 0.000599517\r\n",
      "3.75 0.000562417\r\n",
      "3.8 0.00054204\r\n",
      "3.85 0.000522112\r\n",
      "3.9 0.000502032\r\n",
      "3.95 0.000480773\r\n",
      "4 0.000457639\r\n",
      "4.05 0.00044199\r\n",
      "4.1 0.000437854\r\n",
      "4.15 0.000434032\r\n",
      "4.2 0.000433215\r\n",
      "4.25 0.000434069\r\n",
      "4.3 0.000435876\r\n",
      "4.35 0.000443854\r\n",
      "4.4 0.000446076\r\n",
      "4.45 0.000438196\r\n",
      "4.5 0.000424906\r\n",
      "4.55 0.00041502\r\n",
      "4.6 0.000404713\r\n",
      "4.65 0.000397402\r\n",
      "4.7 0.000397045\r\n",
      "4.75 0.000404052\r\n",
      "4.8 0.000417636\r\n",
      "4.85 0.00045501\r\n",
      "4.9 0.000485403\r\n",
      "4.95 0.000520794\r\n",
      "5 0.000549102\r\n",
      "5.05 0.000574152\r\n",
      "5.1 0.000601478\r\n",
      "5.15 0.000617846\r\n",
      "5.2 0.000633584\r\n",
      "5.25 0.000646528\r\n",
      "5.3 0.000654344\r\n",
      "5.35 0.000658329\r\n",
      "5.4 0.000660382\r\n",
      "5.45 0.000662099\r\n",
      "5.5 0.000667363\r\n",
      "5.55 0.00133831\r\n",
      "5.6 0.00142933\r\n",
      "5.65 0.00149982\r\n",
      "5.7 0.00153409\r\n",
      "5.75 0.0015251\r\n",
      "5.8 0.00146665\r\n",
      "5.85 0.00138117\r\n",
      "5.9 0.00130588\r\n",
      "5.95 0.00126924\r\n",
      "6 0.00127577\r\n",
      "6.05 0.00132404\r\n",
      "6.1 0.00139962\r\n",
      "6.13 0.00144997\r\n",
      "6.16 0.00149315\r\n",
      "6.19 0.00152501\r\n",
      "6.22 0.00153881\r\n",
      "6.25 0.00152038\r\n",
      "6.28 0.00147044\r\n",
      "6.31 0.00138853\r\n",
      "6.34 0.00127579\r\n",
      "6.37 0.00114194\r\n",
      "6.4 0.00101528\r\n",
      "6.43 0.000926469\r\n",
      "6.46 0.000870492\r\n",
      "6.49 0.000841875\r\n",
      "6.52 0.000827211\r\n",
      "6.55 0.000826077\r\n",
      "6.58 0.000841241\r\n",
      "6.61 0.000874883\r\n",
      "6.64 0.000915342\r\n",
      "6.67 0.000968094\r\n",
      "6.7 0.00102021\r\n",
      "6.73 0.00105777\r\n",
      "6.76 0.0010841\r\n",
      "6.79 0.00111115\r\n",
      "6.82 0.00114567\r\n",
      "6.85 0.00117758\r\n",
      "6.88 0.00119518\r\n",
      "6.91 0.00118254\r\n",
      "6.94 0.00113183\r\n",
      "6.97 0.00104808\r\n",
      "7 0.000951903\r\n",
      "7.03 0.000858968\r\n",
      "7.06 0.000792478\r\n",
      "7.09 0.000761782\r\n",
      "7.12 0.000767772\r\n",
      "7.15 0.00079247\r\n",
      "7.18 0.0008172\r\n",
      "7.21 0.000832068\r\n",
      "7.27 0.000902226\r\n",
      "7.3 0.00097536\r\n",
      "7.33 0.00101781\r\n",
      "7.36 0.00101416\r\n",
      "7.39 0.000973784\r\n",
      "7.42 0.000920828\r\n",
      "7.45 0.000866269\r\n",
      "7.48 0.00083309\r\n",
      "7.51 0.0008985\r\n",
      "7.54 0.000890239\r\n",
      "7.57 0.000915446\r\n",
      "7.6 0.000990231\r\n",
      "7.63 0.00110334\r\n",
      "7.66 0.00122052\r\n",
      "7.69 0.00135521\r\n",
      "7.72 0.00148785\r\n",
      "7.74 0.0015524\r\n",
      "7.76 0.00159347\r\n",
      "7.78 0.00159609\r\n",
      "7.8 0.00154314\r\n",
      "7.82 0.00145838\r\n",
      "7.88 0.00125745\r\n",
      "7.9 0.00118727\r\n",
      "7.92 0.00111566\r\n",
      "7.94 0.00104421\r\n",
      "7.96 0.000977345\r\n",
      "7.98 0.000918572\r\n",
      "8 0.000871319\r\n"
     ]
    }
   ],
   "source": [
    "%cat BaBar_2016.dat   "
   ]
  },
  {
   "cell_type": "markdown",
   "metadata": {},
   "source": [
    "Now let's read the file into python data structures"
   ]
  },
  {
   "cell_type": "code",
   "execution_count": 27,
   "metadata": {},
   "outputs": [
    {
     "name": "stdout",
     "output_type": "stream",
     "text": [
      "Read 167 lines from file BaBar_2016.dat\n"
     ]
    }
   ],
   "source": [
    "fname = 'BaBar_2016.dat'\n",
    "f = open(fname, 'r')\n",
    "# read each line, split the data wherever there's a blank space,\n",
    "# and convert the values to floats\n",
    "mass = []\n",
    "charge = []\n",
    "for line in f:\n",
    "    m, c = [float(dat) for dat in line.split()]\n",
    "    mass.append(m)\n",
    "    charge.append(c)\n",
    "f.close()\n",
    "\n",
    "print('Read',len(mass),'lines from file',fname)"
   ]
  },
  {
   "cell_type": "markdown",
   "metadata": {},
   "source": [
    "We got it; let's plot it!"
   ]
  },
  {
   "cell_type": "code",
   "execution_count": 28,
   "metadata": {},
   "outputs": [
    {
     "data": {
      "image/png": "[encoded data removed]",
      "text/plain": [
       "<Figure size 432x288 with 1 Axes>"
      ]
     },
     "metadata": {
      "needs_background": "light"
     },
     "output_type": "display_data"
    }
   ],
   "source": [
    "import matplotlib.pyplot as plt\n",
    "%matplotlib inline\n",
    "\n",
    "plt.plot(mass, charge, 'r-' )\n",
    "plt.xlim(0, 8)\n",
    "plt.ylim(0, 3e-3)\n",
    "plt.xlabel('mass (GeV)')\n",
    "plt.ylabel('charge, 90% C.L. limit')\n",
    "plt.show()"
   ]
  },
  {
   "cell_type": "markdown",
   "metadata": {},
   "source": [
    "If only there were an easier way!"
   ]
  },
  {
   "cell_type": "markdown",
   "metadata": {},
   "source": [
    "Fortunately, Python's `numpy` library has functions for converting file information into numpy arrays, which can be easily analyzed and plotted. The above can be accomplished with a lot less code (and a lot less head scratching!)"
   ]
  },
  {
   "cell_type": "markdown",
   "metadata": {},
   "source": [
    "The two most common functions to read a tabulated text are numpy's `loadtxt` and `genfromtxt`. They are subtly different and mostly interchangable.The most useful feature of `genfromtxt` is that it is able to assign default values to missing fields. See https://numpy.org/doc/stable/reference/generated/numpy.loadtxt.html and https://numpy.org/doc/stable/reference/generated/numpy.genfromtxt.html"
   ]
  },
  {
   "cell_type": "code",
   "execution_count": 29,
   "metadata": {},
   "outputs": [
    {
     "data": {
      "image/png": "[encoded data removed]",
      "text/plain": [
       "<Figure size 432x288 with 1 Axes>"
      ]
     },
     "metadata": {
      "needs_background": "light"
     },
     "output_type": "display_data"
    }
   ],
   "source": [
    "import numpy as np\n",
    "mass, charge = np.loadtxt('BaBar_2016.dat', unpack = True)\n",
    "plt.plot(mass, charge,'r-')\n",
    "plt.xlim(0, 8)\n",
    "plt.ylim(0, 2e-3)\n",
    "plt.xlabel('mass (GeV)')\n",
    "plt.ylabel('charge, 90% C.L. limit')\n",
    "plt.show()"
   ]
  },
  {
   "cell_type": "markdown",
   "metadata": {},
   "source": [
    "### Part II: CSV"
   ]
  },
  {
   "cell_type": "markdown",
   "metadata": {},
   "source": [
    "CSV stands for Comma Separated Values. Python's `csv` module allows easy reading and writing of sequences. CSV is especially useful for loading data from spreadsheets and databases."
   ]
  },
  {
   "cell_type": "markdown",
   "metadata": {},
   "source": [
    "Let's make a list and write a file!  \n",
    "First, we load the module"
   ]
  },
  {
   "cell_type": "code",
   "execution_count": 30,
   "metadata": {},
   "outputs": [],
   "source": [
    "import csv"
   ]
  },
  {
   "cell_type": "markdown",
   "metadata": {},
   "source": [
    "Next, we create a file object that opens the file we want to write to.  \n",
    "Then, we create a *csv writer*, a special object that is built specificly to write\n",
    "sequences to our csv file."
   ]
  },
  {
   "cell_type": "code",
   "execution_count": 41,
   "metadata": {},
   "outputs": [],
   "source": [
    "f_csv = open( 'nationData.csv', 'w' )\n",
    "SAWriter = csv.writer( f_csv,                 # write to this file object\n",
    "                           delimiter = ',',          # place comma between items we write\n",
    "                           quotechar = '',           # Don't place quotes around strings\n",
    "                           quoting = csv.QUOTE_NONE )# made up of multiple words "
   ]
  },
  {
   "cell_type": "markdown",
   "metadata": {},
   "source": [
    "Now let's write some data:"
   ]
  },
  {
   "cell_type": "code",
   "execution_count": 42,
   "metadata": {},
   "outputs": [],
   "source": [
    "countries = ['Argentina', 'Bolivia', 'Brazil', 'Chile', 'Colombia', 'Ecuador', 'Guyana',\\\n",
    "             'Paraguay', 'Peru', 'Suriname', 'Uruguay', 'Venezuela']\n",
    "capitals = ['Buenos Aires', 'Sucre', 'Brasilia', 'Santiago', 'Bogota', 'Quito', 'Georgetown',\\\n",
    "             'Asuncion', 'Lima', 'Paramaribo', 'Montevideo', 'Caracas']\n",
    "population_mils = [ 42.8, 10.1, 203.4, 16.9, 46.4, 15.0, 0.7, 6.5, 29.2, 0.5,\\\n",
    "                      3.3, 27.6]"
   ]
  },
  {
   "cell_type": "code",
   "execution_count": 43,
   "metadata": {},
   "outputs": [],
   "source": [
    "SAWriter.writerow(['Data on South American Nations'])\n",
    "SAWriter.writerow(['Country', 'Capital', 'Populaton (millions)'])\n",
    "for i in range(len(countries)):\n",
    "    SAWriter.writerow( [countries[i], capitals[i], population_mils[i]] )\n",
    "f_csv.close()"
   ]
  },
  {
   "cell_type": "markdown",
   "metadata": {},
   "source": [
    "Now let's see if we can open your file using a spreadsheet program, like MS Excel. How did we do?"
   ]
  },
  {
   "cell_type": "markdown",
   "metadata": {},
   "source": [
    "We can use a similar process to read data into Python from a csv file. Let's read in a list of the most populous cities and store them for analysis."
   ]
  },
  {
   "cell_type": "code",
   "execution_count": 44,
   "metadata": {},
   "outputs": [],
   "source": [
    "cities = []\n",
    "cityPops = []\n",
    "metroPops = []"
   ]
  },
  {
   "cell_type": "code",
   "execution_count": 45,
   "metadata": {},
   "outputs": [
    {
     "name": "stdout",
     "output_type": "stream",
     "text": [
      "['Shanghai', 'China', '24.3', '24.8']\n",
      "Shanghai, China, 24.3, 24.8\n",
      "['Lagos', 'Nigeria', '21.3', '21']\n",
      "Lagos, Nigeria, 21.3, 21\n",
      "['Delhi', 'India', '16.8', '21.8']\n",
      "Delhi, India, 16.8, 21.8\n",
      "['Istanbul', 'Turkey', '14.4', '14.4']\n",
      "Istanbul, Turkey, 14.4, 14.4\n",
      "['Tokyo', 'Japan', '13.3', '36.9']\n",
      "Tokyo, Japan, 13.3, 36.9\n",
      "['Mumbai', 'India', '12.5', '20.7']\n",
      "Mumbai, India, 12.5, 20.7\n",
      "['Sao Paulo', 'Brazil', '11.9', '20.9']\n",
      "Sao Paulo, Brazil, 11.9, 20.9\n",
      "['Beijing', 'China', '21.5', '21.1']\n",
      "Beijing, China, 21.5, 21.1\n",
      "['Shenzhen', 'China', '10.8', '10.6']\n",
      "Shenzhen, China, 10.8, 10.6\n",
      "['Seoul', 'South Korea', '10.3', '25.6']\n",
      "Seoul, South Korea, 10.3, 25.6\n",
      "['Jakarta', 'Indonesia', '10', '10.1']\n",
      "Jakarta, Indonesia, 10, 10.1\n",
      "['Guangzhou', 'China', '9.9', '23.9']\n",
      "Guangzhou, China, 9.9, 23.9\n",
      "['Mexico City', 'Mexico', '8.9', '21.2']\n",
      "Mexico City, Mexico, 8.9, 21.2\n",
      "['Lima', 'Peru', '8.7', '9.9']\n",
      "Lima, Peru, 8.7, 9.9\n",
      "['London', 'United Kingdom', '8.5', '14']\n",
      "London, United Kingdom, 8.5, 14\n",
      "['New York City', 'United States', '8.5', '20.1']\n",
      "New York City, United States, 8.5, 20.1\n",
      "['Bengaluru', 'India', '8.4', '8.7']\n",
      "Bengaluru, India, 8.4, 8.7\n",
      "['Bangkok', 'Thailand', '8.3', '8.3']\n",
      "Bangkok, Thailand, 8.3, 8.3\n"
     ]
    }
   ],
   "source": [
    "f_csv = open( 'cities.csv', 'r')\n",
    "readCity = csv.reader( f_csv, delimiter = ',' )\n",
    "next(readCity) # skip the header row\n",
    "for row in readCity:\n",
    "    print(row)\n",
    "    print (', '.join(row)) # join the element of the list together, with the strng ', ' in between\n",
    "    city_country = ', '.join(row[0:2])\n",
    "    cities.append(city_country)\n",
    "    if row[2] != '':\n",
    "        cityPops.append( float(row[2]) )\n",
    "    else: cityPops.append(-1)\n",
    "    if row[3] != '':\n",
    "        metroPops.append( float(row[3]) )\n",
    "    else: metroPops.append(-1)\n",
    "f_csv.close()"
   ]
  },
  {
   "cell_type": "code",
   "execution_count": 46,
   "metadata": {},
   "outputs": [
    {
     "name": "stdout",
     "output_type": "stream",
     "text": [
      "The five most populous cities (within city proper) are:\n",
      "\n",
      "Shanghai, China with a population of 24.3 million\n",
      "Beijing, China with a population of 21.5 million\n",
      "Lagos, Nigeria with a population of 21.3 million\n",
      "Delhi, India with a population of 16.8 million\n",
      "Istanbul, Turkey with a population of 14.4 million\n",
      "\n",
      "The five most populous metropolitan regions in the world are:\n",
      "\n",
      "Tokyo, Japan with a metro population of 36.9 million\n",
      "Seoul, South Korea with a metro population of 25.6 million\n",
      "Shanghai, China with a metro population of 24.8 million\n",
      "Guangzhou, China with a metro population of 23.9 million\n",
      "Delhi, India with a metro population of 21.8 million\n"
     ]
    }
   ],
   "source": [
    "metroPops, cityPops = np.array(metroPops), np.array(cityPops)\n",
    "cIds = np.argsort(cityPops)[::-1] # sort in descending order\n",
    "mIds= np.argsort(metroPops)[::-1]\n",
    "\n",
    "print (\"The five most populous cities (within city proper) are:\\n\")\n",
    "for j in range(5):\n",
    "        print (cities[cIds[j]], \"with a population of {} million\".format(cityPops[cIds[j]]))\n",
    "\n",
    "print (\"\\nThe five most populous metropolitan regions in the world are:\\n\")\n",
    "for i in range(5):\n",
    "        print (cities[mIds[i]], \"with a metro population of {} million\".format(metroPops[mIds[i]]))\n"
   ]
  },
  {
   "cell_type": "markdown",
   "metadata": {
    "collapsed": true
   },
   "source": [
    "### Binary files"
   ]
  },
  {
   "cell_type": "markdown",
   "metadata": {},
   "source": [
    "So far, we've been dealing with text files. If you opened these files up with a text editor, you could see what was written in them. Binary files are different. They're written in a form that Python (and other languages) understand how to read, but we can't access them directly.  The most common binary file you'll encounter in python is a *.npy* file, which stores numpy arrays. You can create these files using the command `np.save( filename, arr )`. That command will store the array `arr` as a file called filename, which should have the extension .npy. We can then reload the data with the command `np.load(filename)`"
   ]
  },
  {
   "cell_type": "code",
   "execution_count": 62,
   "metadata": {},
   "outputs": [
    {
     "data": {
      "text/plain": [
       "[<matplotlib.lines.Line2D at 0x7ff92f61ba60>]"
      ]
     },
     "execution_count": 62,
     "metadata": {},
     "output_type": "execute_result"
    },
    {
     "data": {
      "image/png": "[encoded data removed]",
      "text/plain": [
       "<Figure size 432x288 with 1 Axes>"
      ]
     },
     "metadata": {
      "needs_background": "light"
     },
     "output_type": "display_data"
    }
   ],
   "source": [
    "x = np.linspace(-1.0, 1.0, 100)\n",
    "y = np.sin(10*x)*np.exp(-x) - x\n",
    "plt.plot(x,y,'r-')"
   ]
  },
  {
   "cell_type": "code",
   "execution_count": 63,
   "metadata": {},
   "outputs": [],
   "source": [
    "# save the array\n",
    "xy = np.hstack((x,y))\n",
    "np.save('y_of_x.npy', xy )"
   ]
  },
  {
   "cell_type": "markdown",
   "metadata": {},
   "source": [
    "Let's also save it as ascii:"
   ]
  },
  {
   "cell_type": "code",
   "execution_count": 64,
   "metadata": {},
   "outputs": [],
   "source": [
    "f = open('y_of_x.txt','w')\n",
    "for var in xy:\n",
    "    f.write('{0:f}\\n'.format(var))\n",
    "f.close()"
   ]
  },
  {
   "cell_type": "code",
   "execution_count": 65,
   "metadata": {},
   "outputs": [],
   "source": [
    "del x, y, xy # erase these variables from Python's memory"
   ]
  },
  {
   "cell_type": "markdown",
   "metadata": {},
   "source": [
    "Now reload the data and check that you can use it just as before."
   ]
  },
  {
   "cell_type": "code",
   "execution_count": 66,
   "metadata": {},
   "outputs": [
    {
     "name": "stdout",
     "output_type": "stream",
     "text": [
      "200\n",
      "100 100\n"
     ]
    },
    {
     "data": {
      "text/plain": [
       "[<matplotlib.lines.Line2D at 0x7ff92f75c3d0>]"
      ]
     },
     "execution_count": 66,
     "metadata": {},
     "output_type": "execute_result"
    },
    {
     "data": {
      "image/png": "[encoded data removed]",
      "text/plain": [
       "<Figure size 432x288 with 1 Axes>"
      ]
     },
     "metadata": {
      "needs_background": "light"
     },
     "output_type": "display_data"
    }
   ],
   "source": [
    "xy = np.load('y_of_x.npy')\n",
    "print (len(xy))\n",
    "x = xy[:100]\n",
    "y = xy[100:]\n",
    "print (len(x),len(y))\n",
    "\n",
    "plt.plot(x,y,'r-')"
   ]
  },
  {
   "cell_type": "markdown",
   "metadata": {},
   "source": [
    "### HDF5 Files"
   ]
  },
  {
   "cell_type": "markdown",
   "metadata": {},
   "source": [
    "HDF5 files are ideally suited for managing large amounts of complex data. Python can read them using the module `h5py.`"
   ]
  },
  {
   "cell_type": "code",
   "execution_count": 67,
   "metadata": {},
   "outputs": [],
   "source": [
    "import h5py"
   ]
  },
  {
   "cell_type": "markdown",
   "metadata": {},
   "source": [
    "Let's load our first hdf5 file:"
   ]
  },
  {
   "cell_type": "code",
   "execution_count": 69,
   "metadata": {},
   "outputs": [],
   "source": [
    "fh5 = h5py.File( 'solar.h5py', 'r' )"
   ]
  },
  {
   "cell_type": "markdown",
   "metadata": {},
   "source": [
    "hdf5 files are made up of data sets. Each data set has a name, or a key. Let's take a look at our data sets:"
   ]
  },
  {
   "cell_type": "code",
   "execution_count": 70,
   "metadata": {},
   "outputs": [
    {
     "name": "stdout",
     "output_type": "stream",
     "text": [
      "TOrbit_yr\n",
      "density\n",
      "mass_earthM\n",
      "names\n",
      "solar_AU\n",
      "surfT_K\n"
     ]
    }
   ],
   "source": [
    "for k in fh5.keys(): # loop through the keys\n",
    "    print (k)"
   ]
  },
  {
   "cell_type": "markdown",
   "metadata": {},
   "source": [
    "We access the data sets in our file by name:"
   ]
  },
  {
   "cell_type": "code",
   "execution_count": 87,
   "metadata": {},
   "outputs": [
    {
     "name": "stdout",
     "output_type": "stream",
     "text": [
      "b'Mercury'\n",
      "b'Venus'\n",
      "b'Earth'\n",
      "b'Mars'\n",
      "b'Jupiter'\n",
      "b'Saturn'\n",
      "b'Uranus'\n",
      "b'Neptune'\n"
     ]
    }
   ],
   "source": [
    "for nm in fh5[\"names\"]: # make sure to include the quotation marks!\n",
    "    print (nm)"
   ]
  },
  {
   "cell_type": "markdown",
   "metadata": {},
   "source": [
    "It looks like we've got some planet data on our hands!  \n",
    "Names is a special case, in that it's elements are strings. The other data sets contain float values, and can be treated like numpy arrays."
   ]
  },
  {
   "cell_type": "code",
   "execution_count": 88,
   "metadata": {},
   "outputs": [
    {
     "name": "stdout",
     "output_type": "stream",
     "text": [
      "[ 0.38709894  0.723332    1.0000001   1.5236623   5.203363    9.53707\n",
      " 19.191263   30.068964  ]\n"
     ]
    }
   ],
   "source": [
    "print (fh5[\"solar_AU\"][:])"
   ]
  },
  {
   "cell_type": "markdown",
   "metadata": {},
   "source": [
    "Let's make a plot of the solar system that shows each planet's:  \n",
    "* distance from the sun (position on the x-axis)\n",
    "* orbital period (position on the y-axis\n",
    "* mass (size of scatter plot marker)\n",
    "* surface temperature (color of marker)\n",
    "* density (transparency (or alpha, in matplotlib language))"
   ]
  },
  {
   "cell_type": "code",
   "execution_count": 89,
   "metadata": {},
   "outputs": [],
   "source": [
    "distAU = fh5[\"solar_AU\"][:]\n",
    "mass = fh5[\"mass_earthM\"][:]\n",
    "torb = fh5[\"TOrbit_yr\"][:]\n",
    "temp = fh5[\"surfT_K\"][:]\n",
    "rho = fh5[\"density\"][:]\n",
    "names = fh5[\"names\"][:]"
   ]
  },
  {
   "cell_type": "code",
   "execution_count": 90,
   "metadata": {},
   "outputs": [],
   "source": [
    "import numpy as np\n",
    "\n",
    "def get_size( ms ):\n",
    "    m = 400.0/(np.max(mass) - np.min(mass))\n",
    "    return 100.0 + (ms - np.min(mass))*m \n",
    "def get_alpha( p ):\n",
    "    m = .9/(np.max(rho)-np.min(rho))\n",
    "    return .1+(p - np.min(rho))*m"
   ]
  },
  {
   "cell_type": "code",
   "execution_count": 91,
   "metadata": {},
   "outputs": [],
   "source": [
    "alfs = get_alpha(rho)"
   ]
  },
  {
   "cell_type": "code",
   "execution_count": 92,
   "metadata": {},
   "outputs": [
    {
     "name": "stderr",
     "output_type": "stream",
     "text": [
      "<ipython-input-92-c0d582b194b4>:13: UserWarning: Attempted to set non-positive bottom ylim on a log-scaled axis.\n",
      "Invalid limit will be ignored.\n",
      "  ax.set_ylim(-5,200)\n"
     ]
    },
    {
     "data": {
      "image/png": "[encoded data removed]",
      "text/plain": [
       "<Figure size 432x288 with 1 Axes>"
      ]
     },
     "metadata": {
      "needs_background": "light"
     },
     "output_type": "display_data"
    }
   ],
   "source": [
    "import matplotlib as mpl\n",
    "import matplotlib.pyplot as plt\n",
    "\n",
    "norm = mpl.colors.Normalize(vmin=np.min(temp), vmax=np.max(temp))\n",
    "cmap = plt.cm.cool\n",
    "m = plt.cm.ScalarMappable(norm=norm, cmap=cmap)\n",
    "\n",
    "fig, ax = plt.subplots(1)\n",
    "for i in range(8):\n",
    "    ax.scatter( distAU[i], torb[i], s = get_size(mass[i]), color = m.to_rgba(temp[i]), alpha=alfs[i] ) \n",
    "ax.set_xscale('log')\n",
    "ax.set_yscale('log')\n",
    "ax.set_ylim(-5,200)\n",
    "ax.set_ylabel( 'orbital period (y)' )\n",
    "ax.set_xlabel( 'average dist. from sun (AU)' )\n",
    "ax.set_title( 'Our solar system' )\n",
    "plt.show()"
   ]
  },
  {
   "cell_type": "markdown",
   "metadata": {},
   "source": [
    "If you ever want to write your own HDF5 file, you can open an h5py file object by calling:  \n",
    "\n",
    "    fh5 = h5py.File('filename.h5py', 'w')  \n",
    "    \n",
    "Data sets are created with\n",
    "\n",
    "    dset = fh5.create_dataset( \"dset_name\", (shape,))\n",
    "    \n",
    "The default data type is float.  \n",
    "The values for the data set are then set with:  \n",
    "\n",
    "    dset[...] = (  )  \n",
    "    \n",
    "where the parenthesis contain an array or similar data of the correct shape. After you've added all your data sets, close the file with  \n",
    "\n",
    "    fh5.close()  \n",
    "If you have extra time, try creating your own data set and read it back in to verify that you've done it correctly!"
   ]
  },
  {
   "cell_type": "markdown",
   "metadata": {
    "collapsed": true
   },
   "source": [
    "### Pandas"
   ]
  },
  {
   "cell_type": "markdown",
   "metadata": {},
   "source": [
    "There are more sophisticated tools to store and process the data. We will look at Pandas example in a workshop"
   ]
  },
  {
   "cell_type": "markdown",
   "metadata": {},
   "source": [
    "### Direct binary reads\n",
    "\n",
    "There is also a more direct, less polished interface for reading data from a file:"
   ]
  },
  {
   "cell_type": "code",
   "execution_count": 96,
   "metadata": {},
   "outputs": [
    {
     "name": "stdout",
     "output_type": "stream",
     "text": [
      "0.001 0.000952195\n",
      "\n"
     ]
    }
   ],
   "source": [
    "f = open('BaBar_2016.dat', 'r')    # open file for reading\n",
    "#f.write('Try me\\n')\n",
    "s = f.readline()             # read one line (including end-of-line character, '\\n')\n",
    "print (s)                      # print it"
   ]
  },
  {
   "cell_type": "code",
   "execution_count": 97,
   "metadata": {},
   "outputs": [
    {
     "name": "stdout",
     "output_type": "stream",
     "text": [
      "0.01 0.000952195\n",
      "\n"
     ]
    }
   ],
   "source": [
    "s2 = f.readline()            # this will now read the second line\n",
    "print (s2)"
   ]
  },
  {
   "cell_type": "code",
   "execution_count": 104,
   "metadata": {},
   "outputs": [
    {
     "name": "stdout",
     "output_type": "stream",
     "text": [
      "b' 0.000952195\\n'\n",
      "b'01 0.000952195\\n'\n"
     ]
    }
   ],
   "source": [
    "f = open('BaBar_2016.dat', 'rb') # opening the file again will reset the handle to the beginning of the file.NB: binary mode !\n",
    "f.seek(5)                  # skip 5 bytes (5 characters)\n",
    "s2 = f.readline()          # read from that point until the end of the line\n",
    "print (s2)                 # notice trancation \n",
    "f.seek(-15, 1)             # go back 15 bytes from the current position (i.e. beginning of next line)\n",
    "s2 = f.readline()          # notice what is read\n",
    "print (s2)"
   ]
  },
  {
   "cell_type": "code",
   "execution_count": null,
   "metadata": {
    "collapsed": true
   },
   "outputs": [],
   "source": []
  }
 ],
 "metadata": {
  "kernelspec": {
   "display_name": "Python 3",
   "language": "python",
   "name": "python3"
  },
  "language_info": {
   "codemirror_mode": {
    "name": "ipython",
    "version": 3
   },
   "file_extension": ".py",
   "mimetype": "text/x-python",
   "name": "python",
   "nbconvert_exporter": "python",
   "pygments_lexer": "ipython3",
   "version": "3.8.3"
  }
 },
 "nbformat": 4,
 "nbformat_minor": 1
}

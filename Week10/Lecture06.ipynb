{
 "cells": [
  {
   "cell_type": "markdown",
   "metadata": {},
   "source": [
    "# Monte Carlo Techniques"
   ]
  },
  {
   "cell_type": "markdown",
   "metadata": {},
   "source": [
    "## Example: coin flip"
   ]
  },
  {
   "cell_type": "code",
   "execution_count": 7,
   "metadata": {},
   "outputs": [
    {
     "name": "stdout",
     "output_type": "stream",
     "text": [
      "Heads\n",
      "Tails\n",
      "Heads\n",
      "Heads\n",
      "Heads\n"
     ]
    }
   ],
   "source": [
    "# standard preamble\n",
    "import numpy as np\n",
    "import scipy as sp\n",
    "from scipy import stats\n",
    "import matplotlib.pyplot as plt\n",
    "%matplotlib inline\n",
    "\n",
    "outcomes = ('Heads','Tails')\n",
    "\n",
    "def flip():\n",
    "    if np.random.random() > 0.5:\n",
    "        return outcomes[1]\n",
    "    \n",
    "    return outcomes[0]\n",
    "\n",
    "for i in range(5):\n",
    "    print (flip())\n",
    "    \n",
    "    "
   ]
  },
  {
   "cell_type": "code",
   "execution_count": 6,
   "metadata": {},
   "outputs": [
    {
     "name": "stdout",
     "output_type": "stream",
     "text": [
      "Heads\n"
     ]
    }
   ],
   "source": [
    "print(flip())"
   ]
  },
  {
   "cell_type": "markdown",
   "metadata": {
    "collapsed": true
   },
   "source": [
    "## Example: dice roll"
   ]
  },
  {
   "cell_type": "code",
   "execution_count": 8,
   "metadata": {},
   "outputs": [
    {
     "name": "stdout",
     "output_type": "stream",
     "text": [
      "2\n",
      "6\n",
      "6\n",
      "6\n",
      "2\n"
     ]
    },
    {
     "data": {
      "image/png": "[encoded data removed]",
      "text/plain": [
       "<Figure size 432x288 with 1 Axes>"
      ]
     },
     "metadata": {
      "needs_background": "light"
     },
     "output_type": "display_data"
    }
   ],
   "source": [
    "def dice():\n",
    "    return int(np.random.random()*6)+1\n",
    "\n",
    "for i in range(5):\n",
    "    print (dice())\n",
    "\n",
    "x = [dice() for i in range(100000)]\n",
    "n, bins, patches = plt.hist(x,6,(0.5,6.5))"
   ]
  },
  {
   "cell_type": "code",
   "execution_count": 11,
   "metadata": {},
   "outputs": [
    {
     "name": "stdout",
     "output_type": "stream",
     "text": [
      "5\n"
     ]
    }
   ],
   "source": [
    "print (dice())"
   ]
  },
  {
   "cell_type": "markdown",
   "metadata": {},
   "source": [
    "## Example: deck of cards"
   ]
  },
  {
   "cell_type": "code",
   "execution_count": 13,
   "metadata": {},
   "outputs": [
    {
     "name": "stdout",
     "output_type": "stream",
     "text": [
      "['As', '6c', '9h', 'Jc', '2c']\n"
     ]
    }
   ],
   "source": [
    "import random\n",
    "import itertools\n",
    "SUITS = 'cdhs'\n",
    "RANKS = '23456789TJQKA'\n",
    "DECK = tuple(''.join(card) for card in itertools.product(RANKS, SUITS))\n",
    "hand = random.sample(DECK, 5)\n",
    "print (hand)"
   ]
  },
  {
   "cell_type": "markdown",
   "metadata": {},
   "source": [
    "## Example: Linear Congruential Generator"
   ]
  },
  {
   "cell_type": "code",
   "execution_count": 25,
   "metadata": {},
   "outputs": [
    {
     "name": "stdout",
     "output_type": "stream",
     "text": [
      "33031656 198186408 957896856 65108986 127826865 \n",
      "0 3 2 5 4 7 6 1 0 3 2 5 4 7 6 1 0 3 2 5 \n"
     ]
    }
   ],
   "source": [
    "myRandomSeed = 504\n",
    "def myRandom(a=65539, b=0, c=int(2**31-1)):\n",
    "    global myRandomSeed\n",
    "    x = (a*myRandomSeed+b) % c\n",
    "    myRandomSeed = x\n",
    "    return x\n",
    "\n",
    "out = \"\"\n",
    "for i in range(5):\n",
    "    out += str(myRandom())\n",
    "    out += \" \"\n",
    "    \n",
    "print (out)\n",
    "    \n",
    "out = \"\"\n",
    "myRandomSeed = 1\n",
    "for i in range(20):\n",
    "    out += str(myRandom(a=5, b=3, c=8))\n",
    "    out += \" \"\n",
    "\n",
    "print (out)"
   ]
  },
  {
   "cell_type": "markdown",
   "metadata": {},
   "source": [
    "## Example: Python random numbers"
   ]
  },
  {
   "cell_type": "code",
   "execution_count": 31,
   "metadata": {},
   "outputs": [
    {
     "name": "stdout",
     "output_type": "stream",
     "text": [
      "5\n"
     ]
    }
   ],
   "source": [
    "# integer random number between [a..b]\n",
    "print (np.random.randint(0,6)+1)"
   ]
  },
  {
   "cell_type": "code",
   "execution_count": 36,
   "metadata": {},
   "outputs": [
    {
     "name": "stdout",
     "output_type": "stream",
     "text": [
      "0.006999647067926662\n",
      "7.485059555911686\n"
     ]
    }
   ],
   "source": [
    "# float random number between [0..1)\n",
    "print (np.random.random())\n",
    "x01 = np.random.random()   # [0..1)\n",
    "x05 = x01*5                 # [0..5)\n",
    "x510 = x05+5                # [5..10)\n",
    "print(x510)"
   ]
  },
  {
   "cell_type": "code",
   "execution_count": 37,
   "metadata": {},
   "outputs": [
    {
     "name": "stdout",
     "output_type": "stream",
     "text": [
      "5.487250616634572\n"
     ]
    }
   ],
   "source": [
    "# float random number between [a..b)\n",
    "print (np.random.uniform(5,10))"
   ]
  },
  {
   "cell_type": "code",
   "execution_count": 40,
   "metadata": {},
   "outputs": [
    {
     "name": "stdout",
     "output_type": "stream",
     "text": [
      "e\n"
     ]
    }
   ],
   "source": [
    "# Choose a random element\n",
    "print (np.random.choice(['a','b','c','d','e','f','g','h','i','j']))  "
   ]
  },
  {
   "cell_type": "code",
   "execution_count": 43,
   "metadata": {},
   "outputs": [
    {
     "name": "stdout",
     "output_type": "stream",
     "text": [
      "Mean = 7.500\n",
      "Std. dev. = 1.444\n"
     ]
    },
    {
     "data": {
      "image/png": "[encoded data removed]",
      "text/plain": [
       "<Figure size 432x288 with 1 Axes>"
      ]
     },
     "metadata": {
      "needs_background": "light"
     },
     "output_type": "display_data"
    }
   ],
   "source": [
    "# plot distribution\n",
    "ds = np.random.uniform(5,10,size=10000000)\n",
    "print('Mean = {0:5.3f}'.format(np.mean(ds)))\n",
    "print('Std. dev. = {0:5.3f}'.format(np.std(ds)))\n",
    "plt.hist(ds,50,density=True)\n",
    "plt.show()"
   ]
  },
  {
   "cell_type": "markdown",
   "metadata": {},
   "source": [
    "## Example: Python random number generators"
   ]
  },
  {
   "cell_type": "code",
   "execution_count": 49,
   "metadata": {},
   "outputs": [
    {
     "name": "stdout",
     "output_type": "stream",
     "text": [
      "Mean = 2.215\n",
      "Std. dev. = 2.355\n"
     ]
    },
    {
     "data": {
      "image/png": "[encoded data removed]",
      "text/plain": [
       "<Figure size 432x288 with 1 Axes>"
      ]
     },
     "metadata": {
      "needs_background": "light"
     },
     "output_type": "display_data"
    }
   ],
   "source": [
    "ds = np.random.exponential(scale=2.2,size=1000)   # generate life time of a muon (in usec)\n",
    "print('Mean = {0:5.3f}'.format(np.mean(ds)))\n",
    "print('Std. dev. = {0:5.3f}'.format(np.std(ds)))\n",
    "plt.hist(ds,50,density=True)\n",
    "plt.show()"
   ]
  },
  {
   "cell_type": "markdown",
   "metadata": {},
   "source": [
    "See discussion of the [Cauchy distribution](https://en.wikipedia.org/wiki/Cauchy_distribution) in wikipedia for further information."
   ]
  },
  {
   "cell_type": "code",
   "execution_count": 53,
   "metadata": {},
   "outputs": [
    {
     "name": "stdout",
     "output_type": "stream",
     "text": [
      "Mean = -1.292\n",
      "Std. dev. = 76.745\n"
     ]
    },
    {
     "data": {
      "image/png": "[encoded data removed]",
      "text/plain": [
       "<Figure size 432x288 with 1 Axes>"
      ]
     },
     "metadata": {
      "needs_background": "light"
     },
     "output_type": "display_data"
    }
   ],
   "source": [
    "ds = np.random.standard_cauchy(size=10000)\n",
    "print('Mean = {0:5.3f}'.format(np.mean(ds)))\n",
    "print('Std. dev. = {0:5.3f}'.format(np.std(ds)))\n",
    "plt.hist(ds,20,density=True)\n",
    "plt.show()"
   ]
  },
  {
   "cell_type": "code",
   "execution_count": 29,
   "metadata": {},
   "outputs": [
    {
     "name": "stdout",
     "output_type": "stream",
     "text": [
      "Mean = 10.000\n",
      "Std. dev. = 2.042\n"
     ]
    },
    {
     "data": {
      "image/png": "[encoded data removed]",
      "text/plain": [
       "<Figure size 432x288 with 1 Axes>"
      ]
     },
     "metadata": {
      "needs_background": "light"
     },
     "output_type": "display_data"
    }
   ],
   "source": [
    "ds = np.random.triangular(5,10,15,size=10000000)\n",
    "print('Mean = {0:5.3f}'.format(sp.mean(ds)))\n",
    "print('Std. dev. = {0:5.3f}'.format(sp.std(ds)))\n",
    "plt.hist(ds,50,density=True)\n",
    "plt.show()"
   ]
  },
  {
   "cell_type": "code",
   "execution_count": null,
   "metadata": {
    "collapsed": true
   },
   "outputs": [],
   "source": []
  }
 ],
 "metadata": {
  "kernelspec": {
   "display_name": "Python 3",
   "language": "python",
   "name": "python3"
  },
  "language_info": {
   "codemirror_mode": {
    "name": "ipython",
    "version": 3
   },
   "file_extension": ".py",
   "mimetype": "text/x-python",
   "name": "python",
   "nbconvert_exporter": "python",
   "pygments_lexer": "ipython3",
   "version": "3.8.3"
  }
 },
 "nbformat": 4,
 "nbformat_minor": 1
}

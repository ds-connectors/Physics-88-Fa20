{
 "cells": [
  {
   "cell_type": "markdown",
   "metadata": {},
   "source": [
    "# Workshop 8 optional material: Simulating dynamical systems\n"
   ]
  },
  {
   "cell_type": "markdown",
   "metadata": {},
   "source": [
    "Physical systems that evolve in time can be easily (but not always quickly) simulated on a computer.   All you need to know is the function that takes the system from its current state to a future state:\n",
    "\n",
    "$S_2 = f(S_1, dt)$\n",
    "\n",
    "In the above equation, $S_1$ and $S_2$ represent the current and future states, respectively.  $S_2$ is the state of the system after a short amount of time, $dt$.  The function $f$, which encodes the dynamics of the system, often depends on the current state and the choice of $dt$.  Choosing a smaller time step, $dt$, generally improves the accuracy of any simulation."
   ]
  },
  {
   "cell_type": "markdown",
   "metadata": {},
   "source": [
    "For example, the position of a particle, $x(t)$, in one dimension can be written as a function of its velocity $v$:\n",
    "\n",
    "$\\frac{dx}{dt} = v$\n",
    "\n",
    "You could find $x(t)$ using differential equation solving methods, or you could just simulate the motion of the particle.  To do this, we can express the dynamics as:\n",
    "\n",
    "\\begin{align}\n",
    "\\ x_2 & = f(x_1, dt) \\\\\n",
    "\\ & = x_1 + v*dt \\\\\n",
    "\\end{align}"
   ]
  },
  {
   "cell_type": "code",
   "execution_count": 1,
   "metadata": {},
   "outputs": [],
   "source": [
    "import matplotlib.pyplot as plt\n",
    "\n",
    "velocity = 1.0\n",
    "dt = 0.01\n",
    "\n",
    "def update(x, t):\n",
    "    '''This is like the function f above; you should\n",
    "       think of the \"state\" of the system as its position\n",
    "       at some time.  We update its state according to the\n",
    "       dynamics of the system, and I prefer to also update\n",
    "       the value of time in this same function--but this could\n",
    "       also be done in the loop below.'''\n",
    "    \n",
    "    # update the state and time\n",
    "    x = x + velocity*dt\n",
    "    t = t + dt\n",
    "    \n",
    "    # return the updated values\n",
    "    return x, t"
   ]
  },
  {
   "cell_type": "code",
   "execution_count": 2,
   "metadata": {},
   "outputs": [
    {
     "data": {
      "image/png": "[encoded data removed]",
      "text/plain": [
       "<Figure size 432x288 with 1 Axes>"
      ]
     },
     "metadata": {
      "needs_background": "light"
     },
     "output_type": "display_data"
    }
   ],
   "source": [
    "x = 5 # initial x position\n",
    "t = 0 # initial time\n",
    "\n",
    "# Some lists to store the positions and times\n",
    "x_values = [x]  # I like putting the initial values in the list\n",
    "t_values = [t]\n",
    "\n",
    "# This is where the actual \"simulation\" occurs; the update\n",
    "# function is used in a loop with however many iterations we want\n",
    "for i in range(100):\n",
    "    \n",
    "    x, t = update(x, t)\n",
    "    x_values.append(x)\n",
    "    t_values.append(t)\n",
    "    \n",
    "# Finally, some plotting to visualize the results\n",
    "plt.plot(x_values, t_values)\n",
    "plt.ylabel('position')\n",
    "plt.xlabel('time')\n",
    "plt.show()"
   ]
  },
  {
   "cell_type": "markdown",
   "metadata": {},
   "source": [
    "Wow! It's a straight line.  You probably could've guessed that or used some fancy, built-in ODE solving libraries.  But the point is, if you can write down an `update( )` function for some system, then you can simulate it--whether or not there's an analytical way to find a solution.  \n",
    "\n",
    "There's a chance that your capstone project is just a variant of this problem, so I don't want to steal away too many project ideas in this notebook.  Once you start simulating a physical system, it's good to consider the accuracy of your simulated \"solution\".  If you don't have an exact solution to compare against, you can adjust the chosen value of $dt$ and see how it changes the simulation."
   ]
  },
  {
   "cell_type": "markdown",
   "metadata": {},
   "source": [
    "## Exercise 1 \n",
    "\n",
    "Change the code above to simulate a particle under constant acceleration in one dimension.  The `update` function should now also update and return the velocity of the particle.  Plot the position of the particle as a function of time using at least two different choices of time step $dt$.  It may be helpful to include $dt$ as an input parameter to the `update` function so you can easily adjust $dt$ in your simulations."
   ]
  },
  {
   "cell_type": "code",
   "execution_count": null,
   "metadata": {},
   "outputs": [],
   "source": []
  },
  {
   "cell_type": "markdown",
   "metadata": {},
   "source": [
    "Stochastic systems (systems with some randomness) are another great use-case for this method.  [Brownian motion](https://en.wikipedia.org/wiki/Brownian_motion) describes the random motion of a particle (like a piece of dust) in a fluid.  The thermal motion of the fluid molecule bumps the dust particle around in a seemingly random, but well-described, process.  (In theory you could also model this by keeping track of the motion of many tiny fluid particles colliding with each other, the walls of some container, and the large dust particle.)  \n",
    "\n",
    "Below, I've written down an update function for the position of a particle undergoing Brownian motion."
   ]
  },
  {
   "cell_type": "code",
   "execution_count": 3,
   "metadata": {},
   "outputs": [],
   "source": [
    "import numpy as np\n",
    "import matplotlib.pyplot as plt\n",
    "\n",
    "def update(x, t, dt):\n",
    "    \n",
    "    x = x + np.sqrt(dt)*np.random.randn()\n",
    "    t = t + dt\n",
    "    \n",
    "    return x, t"
   ]
  },
  {
   "cell_type": "code",
   "execution_count": 4,
   "metadata": {},
   "outputs": [
    {
     "data": {
      "image/png": "[encoded data removed]",
      "text/plain": [
       "<Figure size 432x288 with 1 Axes>"
      ]
     },
     "metadata": {
      "needs_background": "light"
     },
     "output_type": "display_data"
    }
   ],
   "source": [
    "x = 0\n",
    "t = 0\n",
    "x_values = [x]\n",
    "t_values = [t]\n",
    "\n",
    "for i in range(100):\n",
    "    \n",
    "    x, t = update(x, t, 0.1)\n",
    "    \n",
    "    x_values.append(x)\n",
    "    t_values.append(t)\n",
    "    \n",
    "plt.plot(t_values, x_values)\n",
    "plt.show()"
   ]
  },
  {
   "cell_type": "markdown",
   "metadata": {},
   "source": [
    "## Exercise 2\n",
    "\n",
    "Repeat the Brownian motion simulation many (~1000) times and plot the distribution of final positions.  The mean of the distribution should be zero, but there is some variance to this distribution.  How does the variance and/or standard deviation of this distribution scale with time? "
   ]
  },
  {
   "cell_type": "code",
   "execution_count": null,
   "metadata": {},
   "outputs": [],
   "source": []
  },
  {
   "cell_type": "markdown",
   "metadata": {},
   "source": [
    "## Viral spreading\n",
    "\n",
    "For a more complicated example, here's a simulation of viral spreading following the mathematics of [this paper](https://www.pnas.org/content/pnas/111/46/E4911.full.pdf). You can play with the parameter $\\mu$ (mu) to see how it controls the nature of the spreading."
   ]
  },
  {
   "cell_type": "code",
   "execution_count": 5,
   "metadata": {},
   "outputs": [],
   "source": [
    "import numpy as np\n",
    "\n",
    "prob = 0.4  # Probability of infection\n",
    "L = 2000  # Size of grid\n",
    "\n",
    "# The distribution from which \"jumps\" are drawn\n",
    "def jump(y, mu, L, C):\n",
    "    return np.power((y*(np.power(L, -mu) - np.power(C, -mu)) + np.power(C, -mu)), -1/mu)\n",
    "\n",
    "# function that updates the state of the population and list of infected individuals\n",
    "def update(population, infected,  mu, L, C):\n",
    "    for inf in infected:           \n",
    "        if np.random.random() > prob:\n",
    "            start_x = inf[0] \n",
    "            start_y = inf[1] \n",
    "            angle = np.random.uniform(0, 2*np.pi)\n",
    "            dist = jump(np.random.random(), mu, L, C)\n",
    "            end_x = int(start_x + np.cos(angle)*dist) % L\n",
    "            end_y = int(start_y + np.sin(angle)*dist) % L\n",
    "            if population[end_x, end_y] == 0:\n",
    "                population[end_x, end_y] = 1\n",
    "                infected.append([end_x, end_y])\n",
    "    \n",
    "    return population, infected\n"
   ]
  },
  {
   "cell_type": "code",
   "execution_count": 6,
   "metadata": {},
   "outputs": [],
   "source": [
    "population = np.zeros((int(L),int(L)))\n",
    "population[1000,1000] = 1\n",
    "\n",
    "infected = [[1000,1000]]\n",
    "  \n",
    "mu = 1.8\n",
    "C = 1.5\n",
    "pending = []\n",
    "    \n",
    "ts = []\n",
    "rs = []\n",
    "populations = np.zeros((30, int(L), int(L)))\n",
    "\n",
    "# The simulation -- each iteration is more computationally expensive than the last,\n",
    "# so be careful changing the number of iterations\n",
    "for i in range(26):\n",
    "    populations[i] = population\n",
    "    population, infected = update(population, infected, mu, L, C)"
   ]
  },
  {
   "cell_type": "code",
   "execution_count": 7,
   "metadata": {},
   "outputs": [
    {
     "data": {
      "image/png": "[encoded data removed]",
      "text/plain": [
       "<Figure size 576x576 with 1 Axes>"
      ]
     },
     "metadata": {
      "needs_background": "light"
     },
     "output_type": "display_data"
    }
   ],
   "source": [
    "import random\n",
    "import numpy as np\n",
    "import matplotlib\n",
    "import matplotlib.pyplot as plt\n",
    "from matplotlib import cm,rc\n",
    "from matplotlib.colors import ListedColormap, LinearSegmentedColormap\n",
    "\n",
    "dark = cm.get_cmap('Dark2_r', 256)\n",
    "newcolors = dark(np.linspace(0, 1, 256))\n",
    "white = np.array([1,1,1,1])\n",
    "newcolors[:25, :] = white\n",
    "newcmp = ListedColormap(newcolors)\n",
    "\n",
    "\n",
    "\n",
    "fig = plt.figure(figsize=(8,8))\n",
    "\n",
    "a = populations[25]  # You can change this number to get an earlier/later state of the population\n",
    "\n",
    "im = plt.imshow(a, interpolation='none', aspect='auto', vmin=0, vmax=1, cmap = newcmp)\n",
    "plt.show()"
   ]
  }
 ],
 "metadata": {
  "kernelspec": {
   "display_name": "Python 3",
   "language": "python",
   "name": "python3"
  },
  "language_info": {
   "codemirror_mode": {
    "name": "ipython",
    "version": 3
   },
   "file_extension": ".py",
   "mimetype": "text/x-python",
   "name": "python",
   "nbconvert_exporter": "python",
   "pygments_lexer": "ipython3",
   "version": "3.8.3"
  }
 },
 "nbformat": 4,
 "nbformat_minor": 2
}
